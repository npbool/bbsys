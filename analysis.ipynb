{
 "cells": [
  {
   "cell_type": "code",
   "execution_count": 1,
   "metadata": {
    "collapsed": false
   },
   "outputs": [],
   "source": [
    "%load_ext autoreload\n",
    "%autoreload 2\n",
    "from crew.models import *\n",
    "from crew.util import *\n",
    "from crew.analysis import *\n",
    "import pandas as pd\n",
    "import numpy as np\n",
    "import scipy as sp\n",
    "import scipy.stats"
   ]
  },
  {
   "cell_type": "code",
   "execution_count": 2,
   "metadata": {
    "collapsed": false
   },
   "outputs": [],
   "source": [
    "from crew.forms import * "
   ]
  },
  {
   "cell_type": "code",
   "execution_count": 10,
   "metadata": {
    "collapsed": true
   },
   "outputs": [],
   "source": [
    "def show_form_errors(form):\n",
    "    print(form.errors)\n",
    "    for name in form.fields:\n",
    "        print(name, form.fields[name].errors)"
   ]
  },
  {
   "cell_type": "code",
   "execution_count": 3,
   "metadata": {
    "collapsed": false
   },
   "outputs": [
    {
     "data": {
      "text/plain": [
       "{'category': 'L',\n",
       " 'exam': <Exam: 一考>,\n",
       " 'grade': 1,\n",
       " 'school_props': [['BB', 'W'], ['BB', 'Y'], ['BX', 'W'], ['BX', 'Y']],\n",
       " 'semester': <Semester: 2015上>,\n",
       " 'show_subjects': [<Subject: 语文>, <Subject: 物理>],\n",
       " 'show_total': True}"
      ]
     },
     "execution_count": 3,
     "metadata": {},
     "output_type": "execute_result"
    }
   ],
   "source": [
    "form = AnalysisSegForm({\n",
    "        'semester': 1,\n",
    "        'exam': 1,\n",
    "        'category': 'L',\n",
    "        'grade': 1,\n",
    "        'school_props':['BB W', 'BB Y', 'BX W', 'BX Y'],\n",
    "        'show_total': 1,\n",
    "        'show_subjects': [1,3],\n",
    "        })\n",
    "form.is_valid()\n",
    "form.cleaned_data"
   ]
  },
  {
   "cell_type": "code",
   "execution_count": 14,
   "metadata": {
    "collapsed": false,
    "scrolled": true
   },
   "outputs": [
    {
     "name": "stdout",
     "output_type": "stream",
     "text": [
      "True\n"
     ]
    }
   ],
   "source": [
    "form = AnalysisAvgForm({\n",
    "        'semester': 1,\n",
    "        'exam': 1,\n",
    "        'category': 'L',\n",
    "        'grade': 1,\n",
    "        'school_props':['BB W', 'BB Y', 'BX W', 'BX Y'],\n",
    "        'show_subjects': [1,3],\n",
    "        })\n",
    "print(form.is_valid())\n",
    "form.cleaned_data\n",
    "aa = AverageAnalysis(form)\n",
    "res_df = aa.get_df()"
   ]
  },
  {
   "cell_type": "code",
   "execution_count": 57,
   "metadata": {
    "collapsed": false,
    "scrolled": false
   },
   "outputs": [
    {
     "name": "stdout",
     "output_type": "stream",
     "text": [
      "True\n",
      "{'semester_cmp': <Semester: 2015上>, 'exam_cmp': <Exam: 二考>, 'school_props': [['BB', 'W'], ['BB', 'Y'], ['BX', 'W'], ['BX', 'Y']], 'grade': 1, 'category': 'L', 'semester': <Semester: 2015上>, 'exam': <Exam: 一考>, 'show_subjects': [<Subject: 语文>, <Subject: 数学>, <Subject: 物理>]}\n",
      "语文\n",
      "数学\n",
      "物理\n",
      "总分\n",
      "语文\n",
      "数学\n",
      "物理\n",
      "总分\n"
     ]
    }
   ],
   "source": [
    "form = AnalysisAvgCmpForm({\n",
    "        'semester': 1,\n",
    "        'exam': 1,\n",
    "        'category': 'L',\n",
    "        'grade': 1,\n",
    "        'school_props':['BB W', 'BB Y', 'BX W', 'BX Y'],\n",
    "        'show_subjects': [1,2, 3],\n",
    "        'semester_cmp': 1,\n",
    "        'exam_cmp': 2,\n",
    "        })\n",
    "print(form.is_valid())\n",
    "print(form.cleaned_data)\n",
    "aa = AverageCmpAnalysis(form)\n",
    "res_df, res_df_cmp = aa.get_df()"
   ]
  },
  {
   "cell_type": "code",
   "execution_count": 11,
   "metadata": {
    "collapsed": false
   },
   "outputs": [
    {
     "name": "stdout",
     "output_type": "stream",
     "text": [
      "True True True\n",
      "{'level_b_rank': 120, 'use_rank': 'False', 'level_a_rank': 50}\n"
     ]
    }
   ],
   "source": [
    "def get_subject_pk(name):\n",
    "    return Subject.objects.get(name=name).pk\n",
    "def get_level_forms():\n",
    "    form = AnalysisLevelForm({\n",
    "            'semester': 1,\n",
    "        'exam': 1,\n",
    "        'category': 'L',\n",
    "        'grade': 1,\n",
    "        'school_props':['BB W', 'BB Y', 'BX W', 'BX Y'],\n",
    "        'show_subjects': [1,2, 3],\n",
    "        })\n",
    "    rank_form = LevelRankForm({\n",
    "            'level_a_rank':50, 'level_b_rank': 120, 'use_rank': False \n",
    "        })\n",
    "    score_formset = LevelSubjectScoreFormSet({\n",
    "            'form-TOTAL_FORMS': '3', 'form-INITIAL_FORMS': '3', 'form-MAX_NUM_FORMS': '3',\n",
    "            'form-0-level_a_score': 120, 'form-0-level_b_score': 100, 'form-0-subject_name':'语文', 'form-0-subject_pk': get_subject_pk('语文'),\n",
    "            'form-1-level_a_score': 130, 'form-1-level_b_score': 110, 'form-1-subject_name':'数学', 'form-1-subject_pk': get_subject_pk('数学'),\n",
    "            'form-2-level_a_score': 60, 'form-2-level_b_score': 40, 'form-2-subject_name':'物理', 'form-2-subject_pk': get_subject_pk('物理'),\n",
    "            'form-3-level_a_score': 300, 'form-3-level_b_score': 200, 'form-3-subject_name':'总分', 'form-3-subject_pk': -1,\n",
    "        })\n",
    "    return form, rank_form, score_formset\n",
    "form, rank_form, score_formset = get_level_forms()\n",
    "print(form.is_valid(), rank_form.is_valid(), score_formset.is_valid())\n",
    "print(rank_form.cleaned_data)"
   ]
  },
  {
   "cell_type": "code",
   "execution_count": 4,
   "metadata": {
    "collapsed": false
   },
   "outputs": [
    {
     "data": {
      "text/plain": [
       "[     school grade  class_idx  (level_a_count, 总分)  (level_a_ratio, 总分)  \\\n",
       " 0  博学(0657)  高一年级          1                 19.0             0.301587   \n",
       " 1  博学(0657)  高一年级          2                 10.0             0.294118   \n",
       " 2  博白(0646)  高一年级          1                  6.0             0.285714   \n",
       " 3  博白(0646)  高一年级          2                  7.0             0.269231   \n",
       " 4  博白(0646)  高一年级          3                  9.0             0.169811   \n",
       " \n",
       "    (level_b_count, 总分)  (level_b_ratio, 总分)  (max_score, 总分)  (mean, 总分)  \\\n",
       " 0                 43.0             0.682540            335.0  252.888889   \n",
       " 1                 20.0             0.588235            328.0  244.470588   \n",
       " 2                 13.0             0.619048            327.0  246.952381   \n",
       " 3                 16.0             0.615385            320.0  249.230769   \n",
       " 4                 32.0             0.603774            312.0  241.641509   \n",
       " \n",
       "    (mean_diff, 总分)  (total_count, 总分)  (valid_count, 总分)  (level_a_rank, 总分)  \\\n",
       " 0         5.594473               63.0               63.0                   1   \n",
       " 1        -2.823828               34.0               34.0                   2   \n",
       " 2        -0.342035               23.0               21.0                   3   \n",
       " 3         1.936353               26.0               26.0                   4   \n",
       " 4        -5.652907               53.0               53.0                   5   \n",
       " \n",
       "    (level_b_rank, 总分)   班主任  \n",
       " 0                   1   NaN  \n",
       " 1                   5   NaN  \n",
       " 2                   2    柯洁  \n",
       " 3                   3  None  \n",
       " 4                   4   NaN  ,\n",
       "      school grade  class_idx  (level_a_count, 语文)  (level_a_ratio, 语文)  \\\n",
       " 0  博学(0657)  高一年级          1                 16.0             0.253968   \n",
       " 1  博学(0657)  高一年级          2                  9.0             0.264706   \n",
       " 2  博白(0646)  高一年级          1                  5.0             0.238095   \n",
       " 3  博白(0646)  高一年级          2                 11.0             0.423077   \n",
       " 4  博白(0646)  高一年级          3                  9.0             0.169811   \n",
       " \n",
       "    (level_b_count, 语文)  (level_b_ratio, 语文)  (max_score, 语文)  (mean, 语文)  \\\n",
       " 0                 39.0             0.619048            149.0  108.809524   \n",
       " 1                 18.0             0.529412            146.0  106.735294   \n",
       " 2                 13.0             0.619048            142.0  111.952381   \n",
       " 3                 17.0             0.653846            149.0  116.076923   \n",
       " 4                 33.0             0.622642            147.0  107.924528   \n",
       " \n",
       "    (mean_diff, 语文)  (total_count, 语文)  (valid_count, 语文)  (level_a_rank, 语文)  \\\n",
       " 0        -0.698090               63.0               63.0                   3   \n",
       " 1        -2.772320               34.0               34.0                   2   \n",
       " 2         2.444767               23.0               21.0                   4   \n",
       " 3         6.569309               26.0               26.0                   1   \n",
       " 4        -1.583086               53.0               53.0                   5   \n",
       " \n",
       "    (level_b_rank, 语文)    语文  \n",
       " 0                   3   NaN  \n",
       " 1                   5   NaN  \n",
       " 2                   3    柯洁  \n",
       " 3                   1  None  \n",
       " 4                   2   NaN  ,\n",
       "      school grade  class_idx  (level_a_count, 数学)  (level_a_ratio, 数学)  \\\n",
       " 0  博学(0657)  高一年级          1                 17.0             0.269841   \n",
       " 1  博学(0657)  高一年级          2                 10.0             0.294118   \n",
       " 2  博白(0646)  高一年级          1                  8.0             0.400000   \n",
       " 3  博白(0646)  高一年级          2                  6.0             0.230769   \n",
       " 4  博白(0646)  高一年级          3                 10.0             0.188679   \n",
       " \n",
       "    (level_b_count, 数学)  (level_b_ratio, 数学)  (max_score, 数学)  (mean, 数学)  \\\n",
       " 0                 45.0             0.714286            145.0  109.555556   \n",
       " 1                 24.0             0.705882            147.0  109.500000   \n",
       " 2                 16.0             0.800000            145.0  114.550000   \n",
       " 3                 14.0             0.538462            148.0  102.269231   \n",
       " 4                 25.0             0.471698            146.0  100.924528   \n",
       " \n",
       "    (mean_diff, 数学)  (total_count, 数学)  (valid_count, 数学)  (level_a_rank, 数学)  \\\n",
       " 0         2.800454               63.0               63.0                   3   \n",
       " 1         2.744898               34.0               34.0                   2   \n",
       " 2         7.794898               23.0               20.0                   1   \n",
       " 3        -4.485871               26.0               26.0                   4   \n",
       " 4        -5.830574               53.0               53.0                   5   \n",
       " \n",
       "    (level_b_rank, 数学)   数学  \n",
       " 0                   2  NaN  \n",
       " 1                   3  NaN  \n",
       " 2                   1  李世石  \n",
       " 3                   4  李世石  \n",
       " 4                   5  NaN  ,\n",
       "      school grade  class_idx  (level_a_count, 物理)  (level_a_ratio, 物理)  \\\n",
       " 0  博学(0657)  高一年级          1                 18.0             0.285714   \n",
       " 1  博学(0657)  高一年级          2                  7.0             0.205882   \n",
       " 2  博白(0646)  高一年级          1                  3.0             0.150000   \n",
       " 3  博白(0646)  高一年级          2                  5.0             0.192308   \n",
       " 4  博白(0646)  高一年级          3                 18.0             0.339623   \n",
       " \n",
       "    (level_b_count, 物理)  (level_b_ratio, 物理)  (max_score, 物理)  (mean, 物理)  \\\n",
       " 0                 45.0             0.714286             67.0   34.523810   \n",
       " 1                 19.0             0.558824             68.0   28.235294   \n",
       " 2                 11.0             0.550000             65.0   27.200000   \n",
       " 3                 15.0             0.576923             67.0   30.884615   \n",
       " 4                 34.0             0.641509             67.0   32.792453   \n",
       " \n",
       "    (mean_diff, 物理)  (total_count, 物理)  (valid_count, 物理)  (level_a_rank, 物理)  \\\n",
       " 0         2.789116               63.0               63.0                   2   \n",
       " 1        -3.499400               34.0               34.0                   3   \n",
       " 2        -4.534694               23.0               20.0                   5   \n",
       " 3        -0.850078               26.0               26.0                   4   \n",
       " 4         1.057759               53.0               53.0                   1   \n",
       " \n",
       "    (level_b_rank, 物理)  物理  \n",
       " 0                   1 NaN  \n",
       " 1                   4 NaN  \n",
       " 2                   5 NaN  \n",
       " 3                   3 NaN  \n",
       " 4                   2 NaN  ]"
      ]
     },
     "execution_count": 4,
     "metadata": {},
     "output_type": "execute_result"
    }
   ],
   "source": [
    "aa = LevelAnalysis(form, rank_form, score_formset)\n",
    "aa.get_df_list()"
   ]
  },
  {
   "cell_type": "code",
   "execution_count": 7,
   "metadata": {
    "collapsed": false,
    "scrolled": false
   },
   "outputs": [],
   "source": [
    "df_list = aa.get_df_list()\n",
    "agg_list = aa.get_agg_list()"
   ]
  },
  {
   "cell_type": "code",
   "execution_count": 10,
   "metadata": {
    "collapsed": false,
    "scrolled": true
   },
   "outputs": [
    {
     "data": {
      "text/plain": [
       "{('level_a_count', '总分'): 51.0,\n",
       " ('level_a_ratio', '总分'): 0.25888324873096447,\n",
       " ('level_b_count', '总分'): 124.0,\n",
       " ('level_b_ratio', '总分'): 0.62944162436548223,\n",
       " ('max_score', '总分'): 335.0,\n",
       " ('mean', '总分'): 247.29441624365481,\n",
       " ('mean_diff', '总分'): 247.29441624365481,\n",
       " ('total_count', '总分'): 199.0,\n",
       " ('valid_count', '总分'): 197.0}"
      ]
     },
     "execution_count": 10,
     "metadata": {},
     "output_type": "execute_result"
    }
   ],
   "source": [
    "agg_list[0].to_dict()"
   ]
  },
  {
   "cell_type": "code",
   "execution_count": 21,
   "metadata": {
    "collapsed": false
   },
   "outputs": [],
   "source": [
    "d.columns = list(zip(d.columns.get_level_values(0), d.columns.get_level_values(1)))"
   ]
  },
  {
   "cell_type": "code",
   "execution_count": 22,
   "metadata": {
    "collapsed": false
   },
   "outputs": [
    {
     "data": {
      "text/plain": [
       "Index([         ('school', ''),           ('grade', ''),\n",
       "             ('class_idx', ''), ('level_a_count', '物理'),\n",
       "       ('level_a_ratio', '物理'), ('level_b_count', '物理'),\n",
       "       ('level_b_ratio', '物理'),     ('max_score', '物理'),\n",
       "                ('mean', '物理'),     ('mean_diff', '物理'),\n",
       "         ('total_count', '物理'),   ('valid_count', '物理'),\n",
       "        ('level_a_rank', '物理'),  ('level_b_rank', '物理'),\n",
       "                    ('物理', '')],\n",
       "      dtype='object')"
      ]
     },
     "execution_count": 22,
     "metadata": {},
     "output_type": "execute_result"
    }
   ],
   "source": [
    "d.columns"
   ]
  },
  {
   "cell_type": "code",
   "execution_count": 17,
   "metadata": {
    "collapsed": false
   },
   "outputs": [],
   "source": [
    "from crew.analysis.util import GROUP_KEYS\n",
    "df = record_df.copy()\n",
    "\n",
    "\n",
    "\n",
    "def group_stat(df, subject, mean):\n",
    "    score_series = df['score', subject]\n",
    "    rank_series = df['rank', subject]\n",
    "    group_mean = score_series.mean()\n",
    "    level_a_count = df['is_level_a', subject].sum()\n",
    "    level_b_count = df['is_level_b', subject].sum()\n",
    "    valid_count = score_series.count()\n",
    "    return pd.Series({\n",
    "            ('valid_count', subject): valid_count,\n",
    "            ('total_count', subject): len(df),\n",
    "            ('mean', subject): group_mean,\n",
    "            ('mean_diff', subject): group_mean - mean,\n",
    "            ('max', subject): score_series.max(),\n",
    "            ('level_a_count', subject): level_a_count,\n",
    "            ('level_a_ratio', subject): level_a_count/valid_count,\n",
    "            ('level_b_count', subject): level_b_count,\n",
    "            ('level_b_ratio', subject): level_a_count/valid_count,\n",
    "        })\n",
    "\n",
    "subject_df_list = []\n",
    "for subject in [s.name for s in aa.show_subjects]+['总分']:\n",
    "    df['rank', subject] = rank_series(df['score', subject])\n",
    "    df['is_level_a', subject] = df['rank', subject]>=aa.settings['level_a_rank'] if aa.settings['use_rank'] else df['score', subject]>=aa.settings[subject]['level_a_score']\n",
    "    df['is_level_b', subject] = df['rank', subject]>=aa.settings['level_b_rank'] if aa.settings['use_rank'] else df['score', subject]>=aa.settings[subject]['level_b_score']\n",
    "    df['level', subject] = \n",
    "    mean = df['score', subject].mean()\n",
    "    subject_df = df.groupby(GROUP_KEYS).apply(group_stat, subject=subject, mean=mean)\n"
   ]
  },
  {
   "cell_type": "code",
   "execution_count": 20,
   "metadata": {
    "collapsed": false
   },
   "outputs": [
    {
     "data": {
      "text/plain": [
       "1      False\n",
       "2      False\n",
       "3      False\n",
       "4      False\n",
       "5      False\n",
       "6      False\n",
       "7      False\n",
       "8      False\n",
       "9      False\n",
       "10     False\n",
       "11     False\n",
       "12     False\n",
       "13     False\n",
       "14     False\n",
       "15     False\n",
       "16     False\n",
       "17     False\n",
       "18     False\n",
       "19     False\n",
       "20     False\n",
       "21     False\n",
       "22     False\n",
       "23     False\n",
       "24     False\n",
       "25     False\n",
       "26     False\n",
       "27     False\n",
       "28     False\n",
       "29     False\n",
       "30     False\n",
       "       ...  \n",
       "170    False\n",
       "171    False\n",
       "172    False\n",
       "173    False\n",
       "174    False\n",
       "175    False\n",
       "176    False\n",
       "177    False\n",
       "178    False\n",
       "179    False\n",
       "180    False\n",
       "181    False\n",
       "182    False\n",
       "183    False\n",
       "184    False\n",
       "185    False\n",
       "186    False\n",
       "187    False\n",
       "188    False\n",
       "189    False\n",
       "190    False\n",
       "191    False\n",
       "192    False\n",
       "193    False\n",
       "194    False\n",
       "195    False\n",
       "196    False\n",
       "197    False\n",
       "198    False\n",
       "199    False\n",
       "Name: (rank, 总分), dtype: bool"
      ]
     },
     "execution_count": 20,
     "metadata": {},
     "output_type": "execute_result"
    }
   ],
   "source": [
    "np.logical_and(df['rank', subject]<aa.settings['level_a_rank'], df['rank', subject]>=aa.settings['level_b_rank'])"
   ]
  },
  {
   "cell_type": "code",
   "execution_count": 21,
   "metadata": {
    "collapsed": false
   },
   "outputs": [
    {
     "data": {
      "text/plain": [
       "[<Subject: 语文>, <Subject: 数学>, <Subject: 物理>]"
      ]
     },
     "execution_count": 21,
     "metadata": {},
     "output_type": "execute_result"
    }
   ],
   "source": []
  },
  {
   "cell_type": "code",
   "execution_count": 37,
   "metadata": {
    "collapsed": false
   },
   "outputs": [
    {
     "data": {
      "text/plain": [
       "Index(['数学', '班主任', '语文'], dtype='object', name='subject')"
      ]
     },
     "execution_count": 37,
     "metadata": {},
     "output_type": "execute_result"
    }
   ],
   "source": [
    "teacher_df.columns"
   ]
  },
  {
   "cell_type": "code",
   "execution_count": 7,
   "metadata": {
    "collapsed": false
   },
   "outputs": [
    {
     "ename": "KeyError",
     "evalue": "'物理'",
     "output_type": "error",
     "traceback": [
      "\u001b[0;31m---------------------------------------------------------------------------\u001b[0m",
      "\u001b[0;31mKeyError\u001b[0m                                  Traceback (most recent call last)",
      "\u001b[0;32m/usr/local/anaconda3/lib/python3.5/site-packages/pandas/indexes/base.py\u001b[0m in \u001b[0;36mget_loc\u001b[0;34m(self, key, method, tolerance)\u001b[0m\n\u001b[1;32m   1875\u001b[0m             \u001b[0;32mtry\u001b[0m\u001b[0;34m:\u001b[0m\u001b[0;34m\u001b[0m\u001b[0m\n\u001b[0;32m-> 1876\u001b[0;31m                 \u001b[0;32mreturn\u001b[0m \u001b[0mself\u001b[0m\u001b[0;34m.\u001b[0m\u001b[0m_engine\u001b[0m\u001b[0;34m.\u001b[0m\u001b[0mget_loc\u001b[0m\u001b[0;34m(\u001b[0m\u001b[0mkey\u001b[0m\u001b[0;34m)\u001b[0m\u001b[0;34m\u001b[0m\u001b[0m\n\u001b[0m\u001b[1;32m   1877\u001b[0m             \u001b[0;32mexcept\u001b[0m \u001b[0mKeyError\u001b[0m\u001b[0;34m:\u001b[0m\u001b[0;34m\u001b[0m\u001b[0m\n",
      "\u001b[0;32mpandas/index.pyx\u001b[0m in \u001b[0;36mpandas.index.IndexEngine.get_loc (pandas/index.c:4027)\u001b[0;34m()\u001b[0m\n",
      "\u001b[0;32mpandas/index.pyx\u001b[0m in \u001b[0;36mpandas.index.IndexEngine.get_loc (pandas/index.c:3891)\u001b[0;34m()\u001b[0m\n",
      "\u001b[0;32mpandas/hashtable.pyx\u001b[0m in \u001b[0;36mpandas.hashtable.PyObjectHashTable.get_item (pandas/hashtable.c:12408)\u001b[0;34m()\u001b[0m\n",
      "\u001b[0;32mpandas/hashtable.pyx\u001b[0m in \u001b[0;36mpandas.hashtable.PyObjectHashTable.get_item (pandas/hashtable.c:12359)\u001b[0;34m()\u001b[0m\n",
      "\u001b[0;31mKeyError\u001b[0m: '物理'",
      "\nDuring handling of the above exception, another exception occurred:\n",
      "\u001b[0;31mKeyError\u001b[0m                                  Traceback (most recent call last)",
      "\u001b[0;32m<ipython-input-7-8f9cf36e4cad>\u001b[0m in \u001b[0;36m<module>\u001b[0;34m()\u001b[0m\n\u001b[0;32m----> 1\u001b[0;31m \u001b[0maa\u001b[0m\u001b[0;34m.\u001b[0m\u001b[0mget_df_list\u001b[0m\u001b[0;34m(\u001b[0m\u001b[0;34m)\u001b[0m\u001b[0;34m\u001b[0m\u001b[0m\n\u001b[0m",
      "\u001b[0;32m/Users/npbool/Projects/bbsys/crew/analysis/level.py\u001b[0m in \u001b[0;36mget_df_list\u001b[0;34m(self)\u001b[0m\n\u001b[1;32m     64\u001b[0m             \u001b[0;32melse\u001b[0m\u001b[0;34m:\u001b[0m\u001b[0;34m\u001b[0m\u001b[0m\n\u001b[1;32m     65\u001b[0m                 \u001b[0msubject_df\u001b[0m\u001b[0;34m[\u001b[0m\u001b[0msubject\u001b[0m\u001b[0;34m]\u001b[0m \u001b[0;34m=\u001b[0m \u001b[0mnp\u001b[0m\u001b[0;34m.\u001b[0m\u001b[0mnan\u001b[0m\u001b[0;34m\u001b[0m\u001b[0m\n\u001b[0;32m---> 66\u001b[0;31m                 \u001b[0msubject_df_list\u001b[0m\u001b[0;34m.\u001b[0m\u001b[0mappend\u001b[0m\u001b[0;34m(\u001b[0m\u001b[0mteacher_df\u001b[0m\u001b[0;34m[\u001b[0m\u001b[0msubject\u001b[0m\u001b[0;34m]\u001b[0m\u001b[0;34m)\u001b[0m\u001b[0;34m\u001b[0m\u001b[0m\n\u001b[0m\u001b[1;32m     67\u001b[0m \u001b[0;34m\u001b[0m\u001b[0m\n\u001b[1;32m     68\u001b[0m         \u001b[0;32mreturn\u001b[0m \u001b[0msubject_df_list\u001b[0m\u001b[0;34m\u001b[0m\u001b[0m\n",
      "\u001b[0;32m/usr/local/anaconda3/lib/python3.5/site-packages/pandas/core/frame.py\u001b[0m in \u001b[0;36m__getitem__\u001b[0;34m(self, key)\u001b[0m\n\u001b[1;32m   1990\u001b[0m             \u001b[0;32mreturn\u001b[0m \u001b[0mself\u001b[0m\u001b[0;34m.\u001b[0m\u001b[0m_getitem_multilevel\u001b[0m\u001b[0;34m(\u001b[0m\u001b[0mkey\u001b[0m\u001b[0;34m)\u001b[0m\u001b[0;34m\u001b[0m\u001b[0m\n\u001b[1;32m   1991\u001b[0m         \u001b[0;32melse\u001b[0m\u001b[0;34m:\u001b[0m\u001b[0;34m\u001b[0m\u001b[0m\n\u001b[0;32m-> 1992\u001b[0;31m             \u001b[0;32mreturn\u001b[0m \u001b[0mself\u001b[0m\u001b[0;34m.\u001b[0m\u001b[0m_getitem_column\u001b[0m\u001b[0;34m(\u001b[0m\u001b[0mkey\u001b[0m\u001b[0;34m)\u001b[0m\u001b[0;34m\u001b[0m\u001b[0m\n\u001b[0m\u001b[1;32m   1993\u001b[0m \u001b[0;34m\u001b[0m\u001b[0m\n\u001b[1;32m   1994\u001b[0m     \u001b[0;32mdef\u001b[0m \u001b[0m_getitem_column\u001b[0m\u001b[0;34m(\u001b[0m\u001b[0mself\u001b[0m\u001b[0;34m,\u001b[0m \u001b[0mkey\u001b[0m\u001b[0;34m)\u001b[0m\u001b[0;34m:\u001b[0m\u001b[0;34m\u001b[0m\u001b[0m\n",
      "\u001b[0;32m/usr/local/anaconda3/lib/python3.5/site-packages/pandas/core/frame.py\u001b[0m in \u001b[0;36m_getitem_column\u001b[0;34m(self, key)\u001b[0m\n\u001b[1;32m   1997\u001b[0m         \u001b[0;31m# get column\u001b[0m\u001b[0;34m\u001b[0m\u001b[0;34m\u001b[0m\u001b[0m\n\u001b[1;32m   1998\u001b[0m         \u001b[0;32mif\u001b[0m \u001b[0mself\u001b[0m\u001b[0;34m.\u001b[0m\u001b[0mcolumns\u001b[0m\u001b[0;34m.\u001b[0m\u001b[0mis_unique\u001b[0m\u001b[0;34m:\u001b[0m\u001b[0;34m\u001b[0m\u001b[0m\n\u001b[0;32m-> 1999\u001b[0;31m             \u001b[0;32mreturn\u001b[0m \u001b[0mself\u001b[0m\u001b[0;34m.\u001b[0m\u001b[0m_get_item_cache\u001b[0m\u001b[0;34m(\u001b[0m\u001b[0mkey\u001b[0m\u001b[0;34m)\u001b[0m\u001b[0;34m\u001b[0m\u001b[0m\n\u001b[0m\u001b[1;32m   2000\u001b[0m \u001b[0;34m\u001b[0m\u001b[0m\n\u001b[1;32m   2001\u001b[0m         \u001b[0;31m# duplicate columns & possible reduce dimensionality\u001b[0m\u001b[0;34m\u001b[0m\u001b[0;34m\u001b[0m\u001b[0m\n",
      "\u001b[0;32m/usr/local/anaconda3/lib/python3.5/site-packages/pandas/core/generic.py\u001b[0m in \u001b[0;36m_get_item_cache\u001b[0;34m(self, item)\u001b[0m\n\u001b[1;32m   1343\u001b[0m         \u001b[0mres\u001b[0m \u001b[0;34m=\u001b[0m \u001b[0mcache\u001b[0m\u001b[0;34m.\u001b[0m\u001b[0mget\u001b[0m\u001b[0;34m(\u001b[0m\u001b[0mitem\u001b[0m\u001b[0;34m)\u001b[0m\u001b[0;34m\u001b[0m\u001b[0m\n\u001b[1;32m   1344\u001b[0m         \u001b[0;32mif\u001b[0m \u001b[0mres\u001b[0m \u001b[0;32mis\u001b[0m \u001b[0;32mNone\u001b[0m\u001b[0;34m:\u001b[0m\u001b[0;34m\u001b[0m\u001b[0m\n\u001b[0;32m-> 1345\u001b[0;31m             \u001b[0mvalues\u001b[0m \u001b[0;34m=\u001b[0m \u001b[0mself\u001b[0m\u001b[0;34m.\u001b[0m\u001b[0m_data\u001b[0m\u001b[0;34m.\u001b[0m\u001b[0mget\u001b[0m\u001b[0;34m(\u001b[0m\u001b[0mitem\u001b[0m\u001b[0;34m)\u001b[0m\u001b[0;34m\u001b[0m\u001b[0m\n\u001b[0m\u001b[1;32m   1346\u001b[0m             \u001b[0mres\u001b[0m \u001b[0;34m=\u001b[0m \u001b[0mself\u001b[0m\u001b[0;34m.\u001b[0m\u001b[0m_box_item_values\u001b[0m\u001b[0;34m(\u001b[0m\u001b[0mitem\u001b[0m\u001b[0;34m,\u001b[0m \u001b[0mvalues\u001b[0m\u001b[0;34m)\u001b[0m\u001b[0;34m\u001b[0m\u001b[0m\n\u001b[1;32m   1347\u001b[0m             \u001b[0mcache\u001b[0m\u001b[0;34m[\u001b[0m\u001b[0mitem\u001b[0m\u001b[0;34m]\u001b[0m \u001b[0;34m=\u001b[0m \u001b[0mres\u001b[0m\u001b[0;34m\u001b[0m\u001b[0m\n",
      "\u001b[0;32m/usr/local/anaconda3/lib/python3.5/site-packages/pandas/core/internals.py\u001b[0m in \u001b[0;36mget\u001b[0;34m(self, item, fastpath)\u001b[0m\n\u001b[1;32m   3223\u001b[0m \u001b[0;34m\u001b[0m\u001b[0m\n\u001b[1;32m   3224\u001b[0m             \u001b[0;32mif\u001b[0m \u001b[0;32mnot\u001b[0m \u001b[0misnull\u001b[0m\u001b[0;34m(\u001b[0m\u001b[0mitem\u001b[0m\u001b[0;34m)\u001b[0m\u001b[0;34m:\u001b[0m\u001b[0;34m\u001b[0m\u001b[0m\n\u001b[0;32m-> 3225\u001b[0;31m                 \u001b[0mloc\u001b[0m \u001b[0;34m=\u001b[0m \u001b[0mself\u001b[0m\u001b[0;34m.\u001b[0m\u001b[0mitems\u001b[0m\u001b[0;34m.\u001b[0m\u001b[0mget_loc\u001b[0m\u001b[0;34m(\u001b[0m\u001b[0mitem\u001b[0m\u001b[0;34m)\u001b[0m\u001b[0;34m\u001b[0m\u001b[0m\n\u001b[0m\u001b[1;32m   3226\u001b[0m             \u001b[0;32melse\u001b[0m\u001b[0;34m:\u001b[0m\u001b[0;34m\u001b[0m\u001b[0m\n\u001b[1;32m   3227\u001b[0m                 \u001b[0mindexer\u001b[0m \u001b[0;34m=\u001b[0m \u001b[0mnp\u001b[0m\u001b[0;34m.\u001b[0m\u001b[0marange\u001b[0m\u001b[0;34m(\u001b[0m\u001b[0mlen\u001b[0m\u001b[0;34m(\u001b[0m\u001b[0mself\u001b[0m\u001b[0;34m.\u001b[0m\u001b[0mitems\u001b[0m\u001b[0;34m)\u001b[0m\u001b[0;34m)\u001b[0m\u001b[0;34m[\u001b[0m\u001b[0misnull\u001b[0m\u001b[0;34m(\u001b[0m\u001b[0mself\u001b[0m\u001b[0;34m.\u001b[0m\u001b[0mitems\u001b[0m\u001b[0;34m)\u001b[0m\u001b[0;34m]\u001b[0m\u001b[0;34m\u001b[0m\u001b[0m\n",
      "\u001b[0;32m/usr/local/anaconda3/lib/python3.5/site-packages/pandas/indexes/base.py\u001b[0m in \u001b[0;36mget_loc\u001b[0;34m(self, key, method, tolerance)\u001b[0m\n\u001b[1;32m   1876\u001b[0m                 \u001b[0;32mreturn\u001b[0m \u001b[0mself\u001b[0m\u001b[0;34m.\u001b[0m\u001b[0m_engine\u001b[0m\u001b[0;34m.\u001b[0m\u001b[0mget_loc\u001b[0m\u001b[0;34m(\u001b[0m\u001b[0mkey\u001b[0m\u001b[0;34m)\u001b[0m\u001b[0;34m\u001b[0m\u001b[0m\n\u001b[1;32m   1877\u001b[0m             \u001b[0;32mexcept\u001b[0m \u001b[0mKeyError\u001b[0m\u001b[0;34m:\u001b[0m\u001b[0;34m\u001b[0m\u001b[0m\n\u001b[0;32m-> 1878\u001b[0;31m                 \u001b[0;32mreturn\u001b[0m \u001b[0mself\u001b[0m\u001b[0;34m.\u001b[0m\u001b[0m_engine\u001b[0m\u001b[0;34m.\u001b[0m\u001b[0mget_loc\u001b[0m\u001b[0;34m(\u001b[0m\u001b[0mself\u001b[0m\u001b[0;34m.\u001b[0m\u001b[0m_maybe_cast_indexer\u001b[0m\u001b[0;34m(\u001b[0m\u001b[0mkey\u001b[0m\u001b[0;34m)\u001b[0m\u001b[0;34m)\u001b[0m\u001b[0;34m\u001b[0m\u001b[0m\n\u001b[0m\u001b[1;32m   1879\u001b[0m \u001b[0;34m\u001b[0m\u001b[0m\n\u001b[1;32m   1880\u001b[0m         \u001b[0mindexer\u001b[0m \u001b[0;34m=\u001b[0m \u001b[0mself\u001b[0m\u001b[0;34m.\u001b[0m\u001b[0mget_indexer\u001b[0m\u001b[0;34m(\u001b[0m\u001b[0;34m[\u001b[0m\u001b[0mkey\u001b[0m\u001b[0;34m]\u001b[0m\u001b[0;34m,\u001b[0m \u001b[0mmethod\u001b[0m\u001b[0;34m=\u001b[0m\u001b[0mmethod\u001b[0m\u001b[0;34m,\u001b[0m \u001b[0mtolerance\u001b[0m\u001b[0;34m=\u001b[0m\u001b[0mtolerance\u001b[0m\u001b[0;34m)\u001b[0m\u001b[0;34m\u001b[0m\u001b[0m\n",
      "\u001b[0;32mpandas/index.pyx\u001b[0m in \u001b[0;36mpandas.index.IndexEngine.get_loc (pandas/index.c:4027)\u001b[0;34m()\u001b[0m\n",
      "\u001b[0;32mpandas/index.pyx\u001b[0m in \u001b[0;36mpandas.index.IndexEngine.get_loc (pandas/index.c:3891)\u001b[0;34m()\u001b[0m\n",
      "\u001b[0;32mpandas/hashtable.pyx\u001b[0m in \u001b[0;36mpandas.hashtable.PyObjectHashTable.get_item (pandas/hashtable.c:12408)\u001b[0;34m()\u001b[0m\n",
      "\u001b[0;32mpandas/hashtable.pyx\u001b[0m in \u001b[0;36mpandas.hashtable.PyObjectHashTable.get_item (pandas/hashtable.c:12359)\u001b[0;34m()\u001b[0m\n",
      "\u001b[0;31mKeyError\u001b[0m: '物理'"
     ]
    }
   ],
   "source": [
    "aa.get_df_list()"
   ]
  },
  {
   "cell_type": "code",
   "execution_count": null,
   "metadata": {
    "collapsed": true
   },
   "outputs": [],
   "source": []
  }
 ],
 "metadata": {
  "kernelspec": {
   "display_name": "Django Shell-Plus",
   "language": "python",
   "name": "django_extensions"
  },
  "language_info": {
   "codemirror_mode": {
    "name": "ipython",
    "version": 3
   },
   "file_extension": ".py",
   "mimetype": "text/x-python",
   "name": "python",
   "nbconvert_exporter": "python",
   "pygments_lexer": "ipython3",
   "version": "3.5.1"
  }
 },
 "nbformat": 4,
 "nbformat_minor": 0
}
